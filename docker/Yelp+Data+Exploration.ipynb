{
 "cells": [
  {
   "cell_type": "code",
   "execution_count": 1,
   "metadata": {
    "collapsed": false
   },
   "outputs": [],
   "source": [
    "from pyspark import *\n",
    "sc = SparkContext('local[*]')\n",
    "sqlContext = "
   ]
  },
  {
   "cell_type": "markdown",
   "metadata": {},
   "source": [
    "<h1>Yelp Data Exploration</h1>"
   ]
  },
  {
   "cell_type": "markdown",
   "metadata": {},
   "source": [
    "Remove logs"
   ]
  },
  {
   "cell_type": "code",
   "execution_count": 2,
   "metadata": {
    "collapsed": false
   },
   "outputs": [],
   "source": [
    "import matplotlib.pyplot as plt\n",
    "import numpy as np\n",
    "import math\n",
    "import pandas as pd\n",
    "import seaborn as sns\n",
    "\n",
    "import datetime\n",
    "import matplotlib.dates as mdates\n",
    "import matplotlib.patches as mpatches\n",
    "from pyspark.sql.functions import *\n",
    "\n",
    "from pyspark.sql import *\n",
    "%matplotlib inline"
   ]
  },
  {
   "cell_type": "code",
   "execution_count": 3,
   "metadata": {
    "collapsed": false
   },
   "outputs": [],
   "source": [
    "# remove spark heavy logging\n",
    "log4j = sc._jvm.org.apache.log4j\n",
    "log4j.LogManager.getRootLogger().setLevel(log4j.Level.ERROR)"
   ]
  },
  {
   "cell_type": "markdown",
   "metadata": {},
   "source": [
    "<h1>Import Data</h1>"
   ]
  },
  {
   "cell_type": "code",
   "execution_count": 10,
   "metadata": {
    "collapsed": true
   },
   "outputs": [],
   "source": [
    "# HDFS Base path for Yelp Data\n",
    "base_path = '/home/jovyan/work/yelp/json'"
   ]
  },
  {
   "cell_type": "code",
   "execution_count": 11,
   "metadata": {
    "collapsed": false
   },
   "outputs": [],
   "source": [
    "# Yelp file types list\n",
    "file_type_list = ['businesses', 'checkins', 'reviews', 'tips', 'users']\n"
   ]
  },
  {
   "cell_type": "code",
   "execution_count": 19,
   "metadata": {
    "collapsed": false
   },
   "outputs": [],
   "source": [
    "\n",
    "# Dataframe dictionnary for each file type\n",
    "dataframe_map = {t: sqlContext.read.json(base_path + '/%s' % t)\n",
    "                   for t in file_type_list}\n"
   ]
  },
  {
   "cell_type": "code",
   "execution_count": 20,
   "metadata": {
    "collapsed": false
   },
   "outputs": [
    {
     "name": "stdout",
     "output_type": "stream",
     "text": [
      "552339\n",
      "552339\n",
      "552339\n",
      "552339\n",
      "1 loop, best of 3: 2.27 s per loop\n"
     ]
    }
   ],
   "source": [
    "%timeit print(dataframe_map['users'].count())"
   ]
  },
  {
   "cell_type": "code",
   "execution_count": null,
   "metadata": {
    "collapsed": false
   },
   "outputs": [],
   "source": [
    " print(dataframe_map['reviews'].count())"
   ]
  },
  {
   "cell_type": "code",
   "execution_count": null,
   "metadata": {
    "collapsed": true
   },
   "outputs": [],
   "source": [
    "df_users = dataframe_map['users']\n",
    "df_reviews = dataframe_map['reviews']\n",
    "df_business = dataframe_map['businesses']"
   ]
  },
  {
   "cell_type": "markdown",
   "metadata": {
    "collapsed": true
   },
   "source": [
    "<h1>Data Analysis</h1>\n",
    "We gonna try to spot one <b>Yelper Star</b> and see what are the implications of his reviews"
   ]
  },
  {
   "cell_type": "markdown",
   "metadata": {},
   "source": [
    "<h2>Friends Oriented</h2>\n",
    "\n",
    "Find the user with the most friends "
   ]
  },
  {
   "cell_type": "code",
   "execution_count": null,
   "metadata": {
    "collapsed": false
   },
   "outputs": [],
   "source": [
    "#Count the number of friends for everyuser\n",
    "\n",
    "friends_df = df_users.select(df_users.user_id, size(df_users.friends))\n",
    "oldnames = friends_df.schema.names\n",
    "\n",
    "friends_df = friends_df.withColumnRenamed('size(friends)', 'friends_count')\n",
    "#friends_df.printSchema()\n",
    "\n",
    "#Sort the data descending\n",
    "friends_df = friends_df.sort(friends_df.friends_count.desc())\n",
    "\n",
    "yelper_star_id = friends_df.head(1)[0]['user_id']\n",
    "print(yelper_star_id)\n",
    "#Describe the Yelper star found\n",
    "\n",
    "df_users.select('user_id', 'name', 'average_stars', 'review_count', 'fans', size(df_users.friends)).where(df_users.user_id == yelper_star_id).show()\n",
    "\n",
    "#yelper_star.show()"
   ]
  },
  {
   "cell_type": "markdown",
   "metadata": {},
   "source": [
    "The goal here is that for every reviews made by <b>Philip</b> on a business, we see how many reviews followed in the next month"
   ]
  },
  {
   "cell_type": "code",
   "execution_count": null,
   "metadata": {
    "collapsed": false
   },
   "outputs": [],
   "source": [
    "yelper_star_reviews  = df_reviews.where(df_reviews.user_id == yelper_star_id)\n",
    "\n",
    "def strToDate(row) :\n",
    "    newRow = Row(review_id=row.review_id, \n",
    "                 business_id=row.business_id, \n",
    "                 date=datetime.datetime.strptime(row.date, '%Y-%m-%d'))\n",
    "    return newRow\n",
    "\n",
    "yelper_star_reviews = yelper_star_reviews.map(lambda r : strToDate(r)).collect()\n"
   ]
  },
  {
   "cell_type": "code",
   "execution_count": null,
   "metadata": {
    "collapsed": false
   },
   "outputs": [],
   "source": [
    "#Turn date field of review into datetime object\n",
    "timed_reviews = df_reviews.map(lambda r : strToDate(r))\n",
    "timed_reviews = sqlContext.createDataFrame(timed_reviews)\n",
    "timed_reviews.show()"
   ]
  },
  {
   "cell_type": "code",
   "execution_count": null,
   "metadata": {
    "collapsed": false
   },
   "outputs": [],
   "source": [
    "#Parse each of the yelper_star reviews\n",
    "mini = yelper_star_reviews[:2]\n",
    "print(len(mini))\n",
    "for star_review in mini:\n",
    "    start_date = star_review['date']\n",
    "    \n",
    "    \n",
    "    end_date = start_date + datetime.timedelta(days=30)\n",
    "    mini_reviews = timed_reviews.where((timed_reviews.business_id == star_review.business_id)\n",
    "                                       &(timed_reviews.date > start_date) \n",
    "                                       & (timed_reviews.date <= end_date))\n",
    "    mini_reviews = mini_reviews.groupBy('business_id').agg({'review_id':'count'})\n",
    "    mini_reviews = mini_reviews.select('count(review_id)')\n",
    "    \n",
    "    print(mini_reviews.show())"
   ]
  },
  {
   "cell_type": "code",
   "execution_count": null,
   "metadata": {
    "collapsed": false
   },
   "outputs": [],
   "source": []
  },
  {
   "cell_type": "code",
   "execution_count": null,
   "metadata": {
    "collapsed": true
   },
   "outputs": [],
   "source": []
  }
 ],
 "metadata": {
  "anaconda-cloud": {},
  "kernelspec": {
   "display_name": "Python 2",
   "language": "python",
   "name": "python2"
  },
  "language_info": {
   "codemirror_mode": {
    "name": "ipython",
    "version": 2
   },
   "file_extension": ".py",
   "mimetype": "text/x-python",
   "name": "python",
   "nbconvert_exporter": "python",
   "pygments_lexer": "ipython2",
   "version": "2.7.12"
  }
 },
 "nbformat": 4,
 "nbformat_minor": 1
}
