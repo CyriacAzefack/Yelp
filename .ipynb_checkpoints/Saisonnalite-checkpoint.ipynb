{
 "cells": [
  {
   "cell_type": "code",
   "execution_count": null,
   "metadata": {
    "collapsed": true
   },
   "outputs": [],
   "source": [
    "import pickle # Serialization and deserialization\n",
    "import pandas as pd # Package to manage dataframe like in R\n",
    "import numpy as np # Scientific computing package\n",
    "\n",
    "import matplotlib.pyplot as plt # Basic package for statistical data visualization\n",
    "import seaborn as sns # Advanced package for statistical data visualization\n",
    "\n",
    "# Shared folder to read data\n",
    "SHARED_FOLDER = '/shared/data/yelp'\n",
    "\n",
    "# Your folder to write new data and create notebooks.\n",
    "MY_FOLDER = '/home/nratbi'\n",
    "\n",
    "with open ('{}/review.pickle'.format(SHARED_FOLDER), 'rb') as f:\n",
    "    df_reviews = pickle.load(f)\n",
    "    \n",
    "with open ('{}/business.pickle'.format(SHARED_FOLDER), 'rb') as f:\n",
    "    df_businesses = pickle.load(f)\n",
    "with open ('{}/user.pickle'.format(SHARED_FOLDER), 'rb') as f:\n",
    "    df_users = pickle.load(f)\n",
    "with open ('{}/tip.pickle'.format(SHARED_FOLDER), 'rb') as f:\n",
    "    df_tips = pickle.load(f)\n"
   ]
  },
  {
   "cell_type": "code",
   "execution_count": null,
   "metadata": {
    "collapsed": true
   },
   "outputs": [],
   "source": [
    "import datetime\n",
    "import numpy\n",
    "from pyspark.sql.functions import udf\n",
    "from pyspark.sql.types import DateType\n",
    "df_reviews['date'] =  pd.to_datetime(df_reviews['date'], format='%Y-%m-%d')\n",
    "df_businesses = df_businesses.where(df_businesses.city == 'Las Vegas')\n",
    "reviews_LasVegas = df_reviews.merge(df_businesses, on = 'business_id', how = 'inner')\n",
    "\n",
    "NB = [[0]*4]*12 #2004-2015\n",
    "for i in range(len(reviews_LasVegas)):\n",
    "    y = reviews_LasVegas['date'][i].year\n",
    "    d = reviews_LasVegas['date'][i].timestamp()\n",
    "    if (datetime.datetime(y,6,21).timestamp() <= d < datetime.datetime(y,9,21).timestamp()):\n",
    "        NB[y-2004] = [i + j for i,j in zip(NB[y-2004], [1,0,0,0])]\n",
    "    if(datetime.datetime(y,9,21).timestamp() <= d < datetime.datetime(y,12,21).timestamp()):\n",
    "        NB[y-2004] = [i + j for i,j in zip(NB[y-2004], [0,1,0,0])]\n",
    "    if((datetime.datetime(y,1,1).timestamp() <= d < datetime.datetime(y,3,21).timestamp()) or (datetime.datetime(y,12,21).timestamp() <= d < datetime.datetime(y,1,1).timestamp())):\n",
    "        NB[y-2004] = [i + j for i,j in zip(NB[y-2004], [0,0,1,0])]\n",
    "    if(datetime.datetime(y,3,21).timestamp() <= d < datetime.datetime(y,6,21).timestamp()):\n",
    "        NB[y-2004] = [i + j for i,j in zip(NB[y-2004], [0,0,0,1])]\n"
   ]
  },
  {
   "cell_type": "code",
   "execution_count": null,
   "metadata": {
    "collapsed": true
   },
   "outputs": [],
   "source": [
    "from scipy.stats import ttest_rel\n",
    "\n",
    "# les listes suivantes contiennent le nombre de reviews par an (de 2004 à 2015) pour chaque saison\n",
    "SUMMER = [NB[i][0] for i in range(len(NB))]\n",
    "FALL = [NB[i][1] for i in range(len(NB))] \n",
    "WINTER = [NB[i][2] for i in range(len(NB))]\n",
    "SPRING = [NB[i][3] for i in range(len(NB))]\n",
    "\n",
    "#l'objectif ici est de tester l'hypothèse HO suivante :\n",
    "# HO : \"Le nombre moyen de reviews entre deux saisons est le même\" => test de student d'égalité de deux moyennes\n",
    "\n",
    "l = [SUMMER, FALL, WINTER, SPRING]\n",
    "p = np.zeros((4,4))\n",
    "for i in l:\n",
    "    for j in l:\n",
    "        if(i != j):\n",
    "            p[l.index(i)][l.index(j)] = ttest_rel(i, j)[1] #test de student avec données appariés (en fonction de l'année)\n",
    "\n",
    "p = p.reshape((-1,4))\n",
    "df = pd.DataFrame(p, columns = ['SUMMER', 'FALL', 'WINTER', 'SPRING'])\n",
    "df = df.rename(index={0: 'SUMMER', 1:'FALL', 2:'WINTER', 3:'SPRING'})\n",
    "\n",
    "df \n",
    "#df est une dataframe contenant les p-value entre les différentes saisons. On voit bien que\n",
    "# mis à part le cas AUTOMNE/PRINTEMPS (p-value = 0.87 >0.05), les autres ont tous une p-value < 0.05\n",
    "# ce qui nous amène à rejeter l'hypothèse H0 d'égalité des moyennes.\n",
    "\n",
    "#Ainsi nous sommes comtraint de tenir compte de la saisonnalité pour notre problème"
   ]
  }
 ],
 "metadata": {
  "anaconda-cloud": {},
  "kernelspec": {
   "display_name": "pySpark (Spark 1.6.2)",
   "language": "python",
   "name": "pyspark"
  },
  "language_info": {
   "codemirror_mode": {
    "name": "ipython",
    "version": 3
   },
   "file_extension": ".py",
   "mimetype": "text/x-python",
   "name": "python",
   "nbconvert_exporter": "python",
   "pygments_lexer": "ipython3",
   "version": "3.5.2"
  }
 },
 "nbformat": 4,
 "nbformat_minor": 1
}
