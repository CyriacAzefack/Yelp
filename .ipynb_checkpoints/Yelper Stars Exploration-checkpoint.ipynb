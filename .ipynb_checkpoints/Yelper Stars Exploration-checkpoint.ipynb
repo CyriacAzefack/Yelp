{
 "cells": [
  {
   "cell_type": "code",
   "execution_count": 1,
   "metadata": {
    "collapsed": true
   },
   "outputs": [],
   "source": [
    "import pickle\n",
    "import pandas as pd\n",
    "import numpy as np\n",
    "import seaborn as sns\n",
    "sns.set(style=\"darkgrid\")\n",
    "import matplotlib.pyplot as plt\n",
    "%matplotlib inline\n",
    "\n",
    "import datetime\n",
    "import time"
   ]
  },
  {
   "cell_type": "code",
   "execution_count": 2,
   "metadata": {
    "collapsed": false
   },
   "outputs": [],
   "source": [
    "import warnings\n",
    "warnings.filterwarnings(\"ignore\")"
   ]
  },
  {
   "cell_type": "markdown",
   "metadata": {},
   "source": [
    "<h1>Yelp Data Exploration</h1>"
   ]
  },
  {
   "cell_type": "code",
   "execution_count": 3,
   "metadata": {
    "collapsed": true
   },
   "outputs": [],
   "source": [
    "def convertJSON (jsonFilename) :\n",
    "    # read the entire file into a python array\n",
    "    with open(jsonFilename, 'r') as f:\n",
    "        data = f.readlines()\n",
    "\n",
    "    # remove the trailing \"\\n\" from each line\n",
    "    data = map(lambda x: x.rstrip(), data)\n",
    "\n",
    "    # each element of 'data' is an individual JSON object.\n",
    "    # i want to convert it into an *array* of JSON objects\n",
    "    # which, in and of itself, is one large JSON object\n",
    "    # basically... add square brackets to the beginning\n",
    "    # and end, and have all the individual business JSON objects\n",
    "    # separated by a comma\n",
    "    data_json_str = \"[\" + ','.join(data) + \"]\"\n",
    "\n",
    "    # now, load it into pandas\n",
    "    data_df = pd.read_json(data_json_str)\n",
    "    \n",
    "    return data_df"
   ]
  },
  {
   "cell_type": "markdown",
   "metadata": {
    "collapsed": false
   },
   "source": [
    "SHARED_FOLDER = './pickle'\n",
    "with open ('{}/business.pickle'.format(SHARED_FOLDER), 'rb') as f:\n",
    "    df_business = pickle.load(f)\n",
    "\n",
    "\n",
    "with open ('{}/user.pickle'.format(SHARED_FOLDER), 'rb') as f:\n",
    "    df_users = pickle.load(f)\n",
    "\n",
    "\n",
    "with open ('{}/review.pickle'.format(SHARED_FOLDER), 'rb') as f:\n",
    "     df_reviews = pickle.load(f)\n",
    "\n",
    "\n",
    "with open ('{}/tip.pickle'.format(SHARED_FOLDER), 'rb') as f:\n",
    "     df_tips = pickle.load(f)\n"
   ]
  },
  {
   "cell_type": "code",
   "execution_count": 5,
   "metadata": {
    "collapsed": false
   },
   "outputs": [
    {
     "name": "stdout",
     "output_type": "stream",
     "text": [
      "Businesses Loaded....\n",
      "reviews Loaded....\n",
      "users Loaded....\n",
      "tips Loaded....\n"
     ]
    }
   ],
   "source": [
    "base_path = './yelp/json'\n",
    "df_business = convertJSON(base_path+'/businesses/yelp_academic_dataset_business.json')\n",
    "print('Businesses Loaded....')\n",
    "df_reviews = convertJSON(base_path+'/reviews/yelp_academic_dataset_review.json')\n",
    "print('reviews Loaded....')\n",
    "df_users = convertJSON(base_path+'/users/yelp_academic_dataset_user.json')\n",
    "print('users Loaded....')\n",
    "df_tips = convertJSON(base_path+'/tips/yelp_academic_dataset_tip.json')\n",
    "print('tips Loaded....')"
   ]
  },
  {
   "cell_type": "code",
   "execution_count": 6,
   "metadata": {
    "collapsed": false
   },
   "outputs": [
    {
     "name": "stdout",
     "output_type": "stream",
     "text": [
      "There are  17423 business in Las Vegas\n",
      "There are 861536 reviews on those businesses\n",
      "There are 253748 tips on those businesses\n",
      "There are 259396 users corresponding to those reviews & tips\n"
     ]
    }
   ],
   "source": [
    "df_business_vegas = df_business[(df_business.city == 'Las Vegas')]\n",
    "\n",
    "\n",
    "print('There are ', len(df_business_vegas), 'business in Las Vegas')\n",
    "\n",
    "\n",
    "df_reviews_vegas = df_reviews[df_reviews.business_id.isin(df_business_vegas.business_id)]\n",
    "df_reviews_vegas.date = df_reviews_vegas.date.apply(lambda x : x.to_datetime())\n",
    "\n",
    "print('There are', len(df_reviews_vegas), 'reviews on those businesses')\n",
    "\n",
    "\n",
    "df_tips_vegas = df_tips[df_tips.business_id.isin(df_business_vegas.business_id)]\n",
    "df_tips_vegas.date = df_tips_vegas.date.apply(lambda x : x.to_datetime())\n",
    "\n",
    "print('There are', len(df_tips_vegas), 'tips on those businesses')\n",
    "\n",
    "df_users_vegas = df_users[df_users.user_id.isin(df_reviews_vegas.user_id) | df_users.user_id.isin(df_tips_vegas.user_id)]\n",
    "\n",
    "\n",
    "print('There are', len(df_users_vegas), 'users corresponding to those reviews & tips')\n",
    "\n",
    "\n"
   ]
  },
  {
   "cell_type": "code",
   "execution_count": 7,
   "metadata": {
    "collapsed": false
   },
   "outputs": [],
   "source": [
    "df_users_vegas['friends_count'] = df_users_vegas.friends.apply(lambda x : len(x))"
   ]
  },
  {
   "cell_type": "code",
   "execution_count": 8,
   "metadata": {
    "collapsed": false
   },
   "outputs": [],
   "source": [
    "#Let's count tips\n",
    "count_tips = df_tips_vegas.groupby(['user_id'], as_index=False).agg({\n",
    "        \"business_id\" : \"count\"\n",
    "    })\n",
    "\n",
    "count_tips.columns = ['user_id', 'count_tips']\n",
    "\n",
    "df_users_vegas = df_users_vegas.merge(count_tips, on='user_id')"
   ]
  },
  {
   "cell_type": "code",
   "execution_count": 9,
   "metadata": {
    "collapsed": true
   },
   "outputs": [],
   "source": [
    "#Let's count reviews\n",
    "count_reviews = df_reviews_vegas.groupby(['user_id'], as_index=False).agg({\n",
    "        \"review_id\" : \"count\"\n",
    "    })\n",
    "\n",
    "count_reviews.columns = ['user_id', 'count_reviews']\n",
    "\n",
    "df_users_vegas = df_users_vegas.merge(count_reviews, on='user_id')"
   ]
  },
  {
   "cell_type": "code",
   "execution_count": 10,
   "metadata": {
    "collapsed": false
   },
   "outputs": [],
   "source": [
    "#let's count votes\n",
    "df_users_vegas['count_votes'] = df_users_vegas.votes.apply(lambda x : x['cool'] + x['funny'] + x['useful'])"
   ]
  },
  {
   "cell_type": "code",
   "execution_count": 11,
   "metadata": {
    "collapsed": true
   },
   "outputs": [],
   "source": [
    "#Let's count the number of reviews on business\n",
    "df_reviews_vegas['business_count'] = 1\n",
    "df_reviews_vegas['business_count'] = df_reviews_vegas.groupby(['business_id'])['business_count'].cumsum()\n",
    "\n",
    "#Add a Timestamp to the dataframe\n",
    "df_reviews_vegas['timestamp'] = df_reviews_vegas['date'].apply(lambda x : x.timestamp())"
   ]
  },
  {
   "cell_type": "code",
   "execution_count": 12,
   "metadata": {
    "collapsed": true
   },
   "outputs": [],
   "source": [
    "#Reduce df_reviews_stars_size\n",
    "rev_cols = ['user_id', 'business_id', 'review_id', 'date', 'business_count', 'timestamp', 'stars']\n",
    "df_reviews_compute = df_reviews_vegas[rev_cols]"
   ]
  },
  {
   "cell_type": "code",
   "execution_count": 13,
   "metadata": {
    "collapsed": false,
    "scrolled": false
   },
   "outputs": [],
   "source": [
    "nb_days_after_review = 30 #1 month\n",
    "nb_days_before_review = 4*30 #4 months\n",
    "\n",
    "def computeInfluence (manif) :\n",
    "    \n",
    "    if((manif.name % 500) == 0):\n",
    "        print(manif.name,'...')\n",
    "    review_date = manif.date\n",
    "    before_date = review_date - datetime.timedelta(days=nb_days_before_review)\n",
    "    after_date = review_date + datetime.timedelta(days=nb_days_after_review)\n",
    "    \n",
    "    #Get the reviews on the business for the timelapse we need\n",
    "    before_reviews = df_reviews_compute[(df_reviews_compute.business_id == manif.business_id) \n",
    "                                      & (df_reviews_compute.date > before_date) \n",
    "                                      & (df_reviews_compute.date <= review_date)]\n",
    "    #before_reviews = df_business_vegas[(reviews.date <= review_date)]\n",
    "    after_reviews = df_reviews_compute[(df_reviews_compute.business_id == manif.business_id) \n",
    "                                     & (df_reviews_compute.date > review_date) \n",
    "                                     & (df_reviews_compute.date <= after_date)]\n",
    "    \n",
    "    if (len(after_reviews) < 1) :\n",
    "        #print('No reviews after the review', [len(after_reviews)])\n",
    "        return 0\n",
    "    elif (len(before_reviews) < 2) :  \n",
    "        expected_reviews_count = manif.business_count\n",
    "        max_timestamp = after_reviews['timestamp'].max()\n",
    "        actual_reviews_count = after_reviews[after_reviews.timestamp == max_timestamp].business_count.values[0]\n",
    "        influence = (actual_reviews_count - expected_reviews_count)/expected_reviews_count\n",
    "\n",
    "        return influence\n",
    "    \n",
    "    # Plot the regression\n",
    "    \n",
    "\n",
    "    \n",
    "    #Linear regression\n",
    "    #regr = linear_model.SGDRegressor(alpha=0.1, n_iter=2, shuffle=False)\n",
    "    X = before_reviews['timestamp'].values\n",
    "    Y = before_reviews['business_count'].values\n",
    "    #X = np.reshape(X, (len(X), 1))\n",
    "    #Y = np.reshape(Y, (len(Y), 1))\n",
    "    \n",
    "    P = np.polyfit(X, Y, deg=1)\n",
    "    \n",
    "    #regr.fit(X, Y)\n",
    "    \n",
    "    \n",
    "    #y = a*x + b\n",
    "    a = P[0]\n",
    "    b = P[1]\n",
    "    \n",
    "    #Expected review count on the after date\n",
    "    expected_reviews_count = np.ceil(a*after_date.timestamp() + b)\n",
    "    \n",
    "    \n",
    "    #Actual review count on the after date\n",
    "    #since the reviews dataframe is sorted by date descending, we just have to take the last one on the list\n",
    "    max_timestamp = after_reviews['timestamp'].max()\n",
    "    actual_reviews_count = after_reviews[after_reviews.timestamp == max_timestamp].business_count.values[0]\n",
    "    \n",
    "    \n",
    "    influence = (actual_reviews_count - expected_reviews_count)/expected_reviews_count\n",
    "    \n",
    "    if (influence == float(\"-inf\")) :\n",
    "        return 0   \n",
    "    return influence"
   ]
  },
  {
   "cell_type": "code",
   "execution_count": 14,
   "metadata": {
    "collapsed": false
   },
   "outputs": [
    {
     "name": "stdout",
     "output_type": "stream",
     "text": [
      "100 users choosen\n"
     ]
    }
   ],
   "source": [
    "yelper_stars = df_users_vegas[df_users_vegas.count_reviews > 20].sample(100)\n",
    "print(len(yelper_stars), 'users choosen')"
   ]
  },
  {
   "cell_type": "code",
   "execution_count": 15,
   "metadata": {
    "collapsed": false,
    "scrolled": false
   },
   "outputs": [
    {
     "name": "stdout",
     "output_type": "stream",
     "text": [
      "5329 reviews to compute\n",
      "0 ...\n",
      "500 ...\n",
      "1000 ...\n",
      "1500 ...\n",
      "2000 ...\n",
      "2500 ...\n",
      "3000 ...\n",
      "3500 ...\n",
      "4000 ...\n",
      "4500 ...\n",
      "5000 ...\n",
      "--- 860.8625617027283 seconds ---\n"
     ]
    },
    {
     "data": {
      "text/html": [
       "<div>\n",
       "<table border=\"1\" class=\"dataframe\">\n",
       "  <thead>\n",
       "    <tr style=\"text-align: right;\">\n",
       "      <th></th>\n",
       "      <th>user_id</th>\n",
       "      <th>business_id</th>\n",
       "      <th>review_id</th>\n",
       "      <th>date</th>\n",
       "      <th>business_count</th>\n",
       "      <th>timestamp</th>\n",
       "      <th>stars</th>\n",
       "      <th>influence</th>\n",
       "    </tr>\n",
       "  </thead>\n",
       "  <tbody>\n",
       "    <tr>\n",
       "      <th>0</th>\n",
       "      <td>w6Vv-kldGpmvSGqXvTbAdQ</td>\n",
       "      <td>-7yF42k0CcJhtPw51oaOqQ</td>\n",
       "      <td>b76W7MMBvWOBh64lWS_jnw</td>\n",
       "      <td>2006-03-06</td>\n",
       "      <td>17</td>\n",
       "      <td>1.141600e+09</td>\n",
       "      <td>5</td>\n",
       "      <td>0.0</td>\n",
       "    </tr>\n",
       "    <tr>\n",
       "      <th>1</th>\n",
       "      <td>w6Vv-kldGpmvSGqXvTbAdQ</td>\n",
       "      <td>34uJtlPnKicSaX1V8_tu1A</td>\n",
       "      <td>YlZq679-ckuY9KZmRaY2fA</td>\n",
       "      <td>2006-03-06</td>\n",
       "      <td>16</td>\n",
       "      <td>1.141600e+09</td>\n",
       "      <td>5</td>\n",
       "      <td>-0.1</td>\n",
       "    </tr>\n",
       "    <tr>\n",
       "      <th>2</th>\n",
       "      <td>w6Vv-kldGpmvSGqXvTbAdQ</td>\n",
       "      <td>uNZ-RXanNptPHgUdzD3vfw</td>\n",
       "      <td>CTLIHYjrV3CoNpWqVWmPKQ</td>\n",
       "      <td>2006-03-31</td>\n",
       "      <td>1</td>\n",
       "      <td>1.143756e+09</td>\n",
       "      <td>5</td>\n",
       "      <td>0.0</td>\n",
       "    </tr>\n",
       "    <tr>\n",
       "      <th>3</th>\n",
       "      <td>w6Vv-kldGpmvSGqXvTbAdQ</td>\n",
       "      <td>6L4pcXqK7G4GrGYd9q0Xbg</td>\n",
       "      <td>g3xU5hEnxenZnrbKsLUDYw</td>\n",
       "      <td>2006-03-31</td>\n",
       "      <td>1</td>\n",
       "      <td>1.143756e+09</td>\n",
       "      <td>4</td>\n",
       "      <td>1.0</td>\n",
       "    </tr>\n",
       "    <tr>\n",
       "      <th>4</th>\n",
       "      <td>ZWOj6LmzwGvMDh-A85EOtA</td>\n",
       "      <td>rGhbYmGvoqU7IVrmuNQi2g</td>\n",
       "      <td>yuIKt0VQxS3AjTFJ9j221Q</td>\n",
       "      <td>2006-04-02</td>\n",
       "      <td>1</td>\n",
       "      <td>1.143929e+09</td>\n",
       "      <td>4</td>\n",
       "      <td>0.0</td>\n",
       "    </tr>\n",
       "  </tbody>\n",
       "</table>\n",
       "</div>"
      ],
      "text/plain": [
       "                  user_id             business_id               review_id  \\\n",
       "0  w6Vv-kldGpmvSGqXvTbAdQ  -7yF42k0CcJhtPw51oaOqQ  b76W7MMBvWOBh64lWS_jnw   \n",
       "1  w6Vv-kldGpmvSGqXvTbAdQ  34uJtlPnKicSaX1V8_tu1A  YlZq679-ckuY9KZmRaY2fA   \n",
       "2  w6Vv-kldGpmvSGqXvTbAdQ  uNZ-RXanNptPHgUdzD3vfw  CTLIHYjrV3CoNpWqVWmPKQ   \n",
       "3  w6Vv-kldGpmvSGqXvTbAdQ  6L4pcXqK7G4GrGYd9q0Xbg  g3xU5hEnxenZnrbKsLUDYw   \n",
       "4  ZWOj6LmzwGvMDh-A85EOtA  rGhbYmGvoqU7IVrmuNQi2g  yuIKt0VQxS3AjTFJ9j221Q   \n",
       "\n",
       "        date  business_count     timestamp  stars  influence  \n",
       "0 2006-03-06              17  1.141600e+09      5        0.0  \n",
       "1 2006-03-06              16  1.141600e+09      5       -0.1  \n",
       "2 2006-03-31               1  1.143756e+09      5        0.0  \n",
       "3 2006-03-31               1  1.143756e+09      4        1.0  \n",
       "4 2006-04-02               1  1.143929e+09      4        0.0  "
      ]
     },
     "execution_count": 15,
     "metadata": {},
     "output_type": "execute_result"
    }
   ],
   "source": [
    "#Let's plot the reviews evolution on the business with the most reviews\n",
    "businesses = df_business_vegas\n",
    "\n",
    "#def computeBusinessInfluence(business) : \n",
    "\n",
    "reviews = df_reviews_vegas[df_reviews_vegas.user_id.isin(yelper_stars.user_id)][rev_cols]\n",
    "\n",
    "reviews.sort_values(['date'], ascending=True, inplace=True)\n",
    "\n",
    "reviews.reset_index(drop=True, inplace=True)\n",
    "\n",
    "print(len(reviews), 'reviews to compute')\n",
    "start_time = time.time()\n",
    "reviews['influence'] = reviews.apply(computeInfluence, axis=1)\n",
    "print(\"--- %s seconds ---\" % (time.time() - start_time))\n",
    "reviews.head()"
   ]
  },
  {
   "cell_type": "code",
   "execution_count": 16,
   "metadata": {
    "collapsed": true
   },
   "outputs": [],
   "source": [
    "reviews.to_csv('influence_reviews_100.csv', index=False)"
   ]
  },
  {
   "cell_type": "code",
   "execution_count": 23,
   "metadata": {
    "collapsed": false
   },
   "outputs": [
    {
     "name": "stdout",
     "output_type": "stream",
     "text": [
      "5329 reviews \n",
      "637 star reviews \n"
     ]
    }
   ],
   "source": [
    "print(len(reviews), 'reviews ')\n",
    "\n",
    "#Pick the relevant reviews (with more than 10% influence)\n",
    "star_reviews = reviews[reviews.influence.abs() >= 0.1]\n",
    "\n",
    "print(len(star_reviews), 'star reviews ')"
   ]
  },
  {
   "cell_type": "code",
   "execution_count": 24,
   "metadata": {
    "collapsed": false
   },
   "outputs": [
    {
     "data": {
      "text/html": [
       "<div>\n",
       "<table border=\"1\" class=\"dataframe\">\n",
       "  <thead>\n",
       "    <tr style=\"text-align: right;\">\n",
       "      <th></th>\n",
       "      <th>user_id</th>\n",
       "      <th>influence</th>\n",
       "      <th>review_id</th>\n",
       "    </tr>\n",
       "  </thead>\n",
       "  <tbody>\n",
       "    <tr>\n",
       "      <th>94</th>\n",
       "      <td>yvbuGvQKodq6PoRJ2whCfw</td>\n",
       "      <td>5.107417</td>\n",
       "      <td>10</td>\n",
       "    </tr>\n",
       "    <tr>\n",
       "      <th>6</th>\n",
       "      <td>1fujZVn5be9EooASzMkdng</td>\n",
       "      <td>2.563172</td>\n",
       "      <td>4</td>\n",
       "    </tr>\n",
       "    <tr>\n",
       "      <th>49</th>\n",
       "      <td>VsGlXCCjzsKyuel6Gpu-7A</td>\n",
       "      <td>1.946985</td>\n",
       "      <td>16</td>\n",
       "    </tr>\n",
       "    <tr>\n",
       "      <th>39</th>\n",
       "      <td>RYkq-O3vNwzMhg0kxTEkzg</td>\n",
       "      <td>1.915238</td>\n",
       "      <td>10</td>\n",
       "    </tr>\n",
       "    <tr>\n",
       "      <th>32</th>\n",
       "      <td>NFZVcGQZxZGfWmJ8wZTADQ</td>\n",
       "      <td>1.600000</td>\n",
       "      <td>1</td>\n",
       "    </tr>\n",
       "  </tbody>\n",
       "</table>\n",
       "</div>"
      ],
      "text/plain": [
       "                   user_id  influence  review_id\n",
       "94  yvbuGvQKodq6PoRJ2whCfw   5.107417         10\n",
       "6   1fujZVn5be9EooASzMkdng   2.563172          4\n",
       "49  VsGlXCCjzsKyuel6Gpu-7A   1.946985         16\n",
       "39  RYkq-O3vNwzMhg0kxTEkzg   1.915238         10\n",
       "32  NFZVcGQZxZGfWmJ8wZTADQ   1.600000          1"
      ]
     },
     "execution_count": 24,
     "metadata": {},
     "output_type": "execute_result"
    }
   ],
   "source": [
    "global_ys = reviews.groupby(['user_id'], as_index=False).agg({\n",
    "        'influence' : 'mean',\n",
    "        'review_id' : 'count'\n",
    "    })\n",
    "\n",
    "global_ys.sort_values(['influence'], ascending=False, inplace=True)\n",
    "\n",
    "global_ys.head()"
   ]
  },
  {
   "cell_type": "code",
   "execution_count": null,
   "metadata": {
    "collapsed": true
   },
   "outputs": [],
   "source": []
  },
  {
   "cell_type": "code",
   "execution_count": 20,
   "metadata": {
    "collapsed": false
   },
   "outputs": [
    {
     "name": "stdout",
     "output_type": "stream",
     "text": [
      "5329 reviews \n",
      "637 star reviews \n",
      "95 uniques users\n"
     ]
    }
   ],
   "source": [
    "\n",
    "\n",
    "users_group = star_reviews.groupby(['user_id', 'stars'], as_index=False).agg({\n",
    "        'influence' : 'mean',\n",
    "        'review_id' : 'count'\n",
    "    })\n",
    "\n",
    "#users_group.sort_values(['influence'], ascending=False, inplace=True)\n",
    "print(len(users_group.user_id.unique()), 'uniques users')"
   ]
  },
  {
   "cell_type": "code",
   "execution_count": null,
   "metadata": {
    "collapsed": true
   },
   "outputs": [],
   "source": [
    "\n",
    "plt.plot(reviews.timestamp, reviews['business_count'])\n",
    "\n",
    "random_review = reviews.sample(1).review_id.values[0]\n",
    "random_date = reviews[reviews.review_id == random_review].timestamp.values[0]\n",
    "#end_date =  random_date + datetime.timedelta(days=nb_days_after_review)\n",
    "#before_date = random_date - datetime.timedelta(days=nb_days_before_review)\n",
    "\n",
    "\n",
    "plt.axvline(random_date, color='g')\n",
    "#plt.axvline(end_date, color='r')\n",
    "#plt.axvline(before_date, color='y')\n",
    "plt.show()\n",
    "\n",
    "\n",
    "results = reviews[reviews.review_id == random_review]\n"
   ]
  },
  {
   "cell_type": "code",
   "execution_count": null,
   "metadata": {
    "collapsed": false
   },
   "outputs": [],
   "source": [
    "g = sns.FacetGrid(reviews, row=\"stars\", margin_titles=True)\n",
    "bins = np.linspace(-0.2, 0.2, 100)\n",
    "g.map(plt.hist, \"influence\", color=\"steelblue\", bins=bins, lw=0)"
   ]
  },
  {
   "cell_type": "code",
   "execution_count": null,
   "metadata": {
    "collapsed": false
   },
   "outputs": [],
   "source": [
    "aa = reviews.groupby(['user_id', 'stars'], as_index=False).agg({\n",
    "        'review_id' : 'count',\n",
    "        'influence' : 'mean'\n",
    "    })\n",
    "\n",
    "test = aa[(aa.stars >= 3) & (aa.influence > 0.05)]\n",
    "\n",
    "test  = aa[aa.user_id.isin(test.user_id)\n",
    "               & (reviews.stars < 3)\n",
    "               & (reviews.influence < -0.05)]\n",
    "\n",
    "bb = reviews[reviews.user_id.isin(test.user_id)].groupby(['user_id', 'stars'], as_index=False).agg({\n",
    "        'review_id' : 'count',\n",
    "        'influence' : 'mean'\n",
    "    })\n",
    "#aa.sort_values(['influence'], inplace=True, ascending=False)\n",
    "bb"
   ]
  },
  {
   "cell_type": "code",
   "execution_count": null,
   "metadata": {
    "collapsed": true
   },
   "outputs": [],
   "source": [
    "reviews.to_csv('influence_reviews.csv')"
   ]
  }
 ],
 "metadata": {
  "anaconda-cloud": {},
  "kernelspec": {
   "display_name": "Python [default]",
   "language": "python",
   "name": "python3"
  },
  "language_info": {
   "codemirror_mode": {
    "name": "ipython",
    "version": 3
   },
   "file_extension": ".py",
   "mimetype": "text/x-python",
   "name": "python",
   "nbconvert_exporter": "python",
   "pygments_lexer": "ipython3",
   "version": "3.5.2"
  }
 },
 "nbformat": 4,
 "nbformat_minor": 1
}
